{
 "cells": [
  {
   "cell_type": "markdown",
   "metadata": {},
   "source": [
    "# THE SPARKS FOUNDATION"
   ]
  },
  {
   "cell_type": "markdown",
   "metadata": {},
   "source": [
    "# Author : -  Onkar Saudagar"
   ]
  },
  {
   "cell_type": "markdown",
   "metadata": {},
   "source": [
    "## Task 3: Exploratory Data Analysis - Retail\n",
    "## (Beginner Level)"
   ]
  },
  {
   "cell_type": "markdown",
   "metadata": {},
   "source": [
    "##### Perform ‘Exploratory Data Analysis’ on dataset ‘SampleSuperstore'"
   ]
  },
  {
   "cell_type": "markdown",
   "metadata": {},
   "source": [
    "The Steps in this notebook will be:-\n",
    "\n",
    "        1. Variable Identification\n",
    "        2. Univariate Analysis\n",
    "        3. Bivariate Analysis\n",
    "        4. Missing values treatment\n",
    "        5. Outlier treatment\n",
    "        6. Variable creation\n",
    "        7. Variable Transformation\n",
    "        8. Conclusion"
   ]
  },
  {
   "cell_type": "markdown",
   "metadata": {},
   "source": [
    "# EDA (Exploratory Data Analysis)\n",
    "\n",
    "# 7 STEPS OF EDA"
   ]
  },
  {
   "cell_type": "markdown",
   "metadata": {},
   "source": [
    "1. EDA – plays a critical role in understanding the what, why, and how of the problem\n",
    "statement. It’s first in the order of operations that a data analyst will perform when\n",
    "handed a new data source and problem statement.\n",
    "2. Exploratory Data Analysis is an approach to analyzing data sets by summarizing their\n",
    "main characteristics with visualizations. The EDA process is a crucial step prior to\n",
    "building a model in order to unravel various insights that later become important in\n",
    "developing a robust algorithmic model.\n",
    "3. Let’s understand different operations where EDA comes into play:\n",
    "\n",
    "     a. First and foremost, EDA provides a stage for breaking down problem statements into smaller experiments which can help understand the dataset\\\n",
    "     b. EDA provides relevant insights which help analysts make key business decisions\\\n",
    "     c. The EDA step provides a platform to run all thought experiments and ultimately guides us towards making\n",
    "     a critical decision"
   ]
  },
  {
   "cell_type": "markdown",
   "metadata": {},
   "source": [
    "# What is Data Exploration\n",
    "1. If we wish to build an impeccable predictive model, neither any programming language nor any machine learning algorithm can award it to you unless you perform data exploration\n",
    "2. Data Exploration not only uncovers the hidden trends and insights, but also allows you to take the first steps towards building a highly accurate model\n",
    "3. Major time needs to be spent on data exploration, cleaning and preparation as this would take major part of the project time\n",
    "4. Data cleaning can support better analytics as well as all-round business intelligence which can facilitate better decision making and execution"
   ]
  },
  {
   "cell_type": "markdown",
   "metadata": {},
   "source": [
    "## IMPORTING THE LIBRARIES"
   ]
  },
  {
   "cell_type": "code",
   "execution_count": 1,
   "metadata": {},
   "outputs": [],
   "source": [
    "import pandas as pd\n",
    "import numpy as np\n",
    "import seaborn as sns\n",
    "import matplotlib.pyplot as plt\n",
    "%matplotlib inline "
   ]
  },
  {
   "cell_type": "code",
   "execution_count": 2,
   "metadata": {},
   "outputs": [],
   "source": [
    "df = pd.read_csv('SampleSuperstore.csv')"
   ]
  },
  {
   "cell_type": "code",
   "execution_count": 3,
   "metadata": {},
   "outputs": [
    {
     "data": {
      "text/html": [
       "<div>\n",
       "<style scoped>\n",
       "    .dataframe tbody tr th:only-of-type {\n",
       "        vertical-align: middle;\n",
       "    }\n",
       "\n",
       "    .dataframe tbody tr th {\n",
       "        vertical-align: top;\n",
       "    }\n",
       "\n",
       "    .dataframe thead th {\n",
       "        text-align: right;\n",
       "    }\n",
       "</style>\n",
       "<table border=\"1\" class=\"dataframe\">\n",
       "  <thead>\n",
       "    <tr style=\"text-align: right;\">\n",
       "      <th></th>\n",
       "      <th>Ship Mode</th>\n",
       "      <th>Segment</th>\n",
       "      <th>Country</th>\n",
       "      <th>City</th>\n",
       "      <th>State</th>\n",
       "      <th>Postal Code</th>\n",
       "      <th>Region</th>\n",
       "      <th>Category</th>\n",
       "      <th>Sub-Category</th>\n",
       "      <th>Sales</th>\n",
       "      <th>Quantity</th>\n",
       "      <th>Discount</th>\n",
       "      <th>Profit</th>\n",
       "    </tr>\n",
       "  </thead>\n",
       "  <tbody>\n",
       "    <tr>\n",
       "      <td>0</td>\n",
       "      <td>Second Class</td>\n",
       "      <td>Consumer</td>\n",
       "      <td>United States</td>\n",
       "      <td>Henderson</td>\n",
       "      <td>Kentucky</td>\n",
       "      <td>42420</td>\n",
       "      <td>South</td>\n",
       "      <td>Furniture</td>\n",
       "      <td>Bookcases</td>\n",
       "      <td>261.9600</td>\n",
       "      <td>2</td>\n",
       "      <td>0.00</td>\n",
       "      <td>41.9136</td>\n",
       "    </tr>\n",
       "    <tr>\n",
       "      <td>1</td>\n",
       "      <td>Second Class</td>\n",
       "      <td>Consumer</td>\n",
       "      <td>United States</td>\n",
       "      <td>Henderson</td>\n",
       "      <td>Kentucky</td>\n",
       "      <td>42420</td>\n",
       "      <td>South</td>\n",
       "      <td>Furniture</td>\n",
       "      <td>Chairs</td>\n",
       "      <td>731.9400</td>\n",
       "      <td>3</td>\n",
       "      <td>0.00</td>\n",
       "      <td>219.5820</td>\n",
       "    </tr>\n",
       "    <tr>\n",
       "      <td>2</td>\n",
       "      <td>Second Class</td>\n",
       "      <td>Corporate</td>\n",
       "      <td>United States</td>\n",
       "      <td>Los Angeles</td>\n",
       "      <td>California</td>\n",
       "      <td>90036</td>\n",
       "      <td>West</td>\n",
       "      <td>Office Supplies</td>\n",
       "      <td>Labels</td>\n",
       "      <td>14.6200</td>\n",
       "      <td>2</td>\n",
       "      <td>0.00</td>\n",
       "      <td>6.8714</td>\n",
       "    </tr>\n",
       "    <tr>\n",
       "      <td>3</td>\n",
       "      <td>Standard Class</td>\n",
       "      <td>Consumer</td>\n",
       "      <td>United States</td>\n",
       "      <td>Fort Lauderdale</td>\n",
       "      <td>Florida</td>\n",
       "      <td>33311</td>\n",
       "      <td>South</td>\n",
       "      <td>Furniture</td>\n",
       "      <td>Tables</td>\n",
       "      <td>957.5775</td>\n",
       "      <td>5</td>\n",
       "      <td>0.45</td>\n",
       "      <td>-383.0310</td>\n",
       "    </tr>\n",
       "    <tr>\n",
       "      <td>4</td>\n",
       "      <td>Standard Class</td>\n",
       "      <td>Consumer</td>\n",
       "      <td>United States</td>\n",
       "      <td>Fort Lauderdale</td>\n",
       "      <td>Florida</td>\n",
       "      <td>33311</td>\n",
       "      <td>South</td>\n",
       "      <td>Office Supplies</td>\n",
       "      <td>Storage</td>\n",
       "      <td>22.3680</td>\n",
       "      <td>2</td>\n",
       "      <td>0.20</td>\n",
       "      <td>2.5164</td>\n",
       "    </tr>\n",
       "  </tbody>\n",
       "</table>\n",
       "</div>"
      ],
      "text/plain": [
       "        Ship Mode    Segment        Country             City       State  \\\n",
       "0    Second Class   Consumer  United States        Henderson    Kentucky   \n",
       "1    Second Class   Consumer  United States        Henderson    Kentucky   \n",
       "2    Second Class  Corporate  United States      Los Angeles  California   \n",
       "3  Standard Class   Consumer  United States  Fort Lauderdale     Florida   \n",
       "4  Standard Class   Consumer  United States  Fort Lauderdale     Florida   \n",
       "\n",
       "   Postal Code Region         Category Sub-Category     Sales  Quantity  \\\n",
       "0        42420  South        Furniture    Bookcases  261.9600         2   \n",
       "1        42420  South        Furniture       Chairs  731.9400         3   \n",
       "2        90036   West  Office Supplies       Labels   14.6200         2   \n",
       "3        33311  South        Furniture       Tables  957.5775         5   \n",
       "4        33311  South  Office Supplies      Storage   22.3680         2   \n",
       "\n",
       "   Discount    Profit  \n",
       "0      0.00   41.9136  \n",
       "1      0.00  219.5820  \n",
       "2      0.00    6.8714  \n",
       "3      0.45 -383.0310  \n",
       "4      0.20    2.5164  "
      ]
     },
     "execution_count": 3,
     "metadata": {},
     "output_type": "execute_result"
    }
   ],
   "source": [
    "df.head()"
   ]
  },
  {
   "cell_type": "markdown",
   "metadata": {},
   "source": [
    "## Steps For Cleaning\n",
    "##### Now Let's use EDA Steps to cleanse and look into our Data"
   ]
  },
  {
   "cell_type": "markdown",
   "metadata": {},
   "source": [
    "### Step1 :- Variable Identification \n",
    "\n",
    "Dependent Variable: Profit\n",
    "\n",
    "Independent Variables/Predictor Variables:\n",
    "1. Ship Mode\n",
    "2. Segment\n",
    "3. Category\n",
    "4. Sub-Category\n",
    "5. Sales\n",
    "6. Quantity\n",
    "7. Discount"
   ]
  },
  {
   "cell_type": "code",
   "execution_count": 4,
   "metadata": {},
   "outputs": [
    {
     "name": "stdout",
     "output_type": "stream",
     "text": [
      "<class 'pandas.core.frame.DataFrame'>\n",
      "RangeIndex: 9994 entries, 0 to 9993\n",
      "Data columns (total 13 columns):\n",
      "Ship Mode       9994 non-null object\n",
      "Segment         9994 non-null object\n",
      "Country         9994 non-null object\n",
      "City            9994 non-null object\n",
      "State           9994 non-null object\n",
      "Postal Code     9994 non-null int64\n",
      "Region          9994 non-null object\n",
      "Category        9994 non-null object\n",
      "Sub-Category    9994 non-null object\n",
      "Sales           9994 non-null float64\n",
      "Quantity        9994 non-null int64\n",
      "Discount        9994 non-null float64\n",
      "Profit          9994 non-null float64\n",
      "dtypes: float64(3), int64(2), object(8)\n",
      "memory usage: 1015.1+ KB\n"
     ]
    }
   ],
   "source": [
    "# Returns, no. of non-null elements and the data type of each column \n",
    "df.info()"
   ]
  },
  {
   "cell_type": "markdown",
   "metadata": {},
   "source": [
    "##### Data Types:\n",
    "##### String:\n",
    "1. Ship mode\n",
    "2. City\n",
    "3. Country\n",
    "4. Segment\n",
    "5. State   \n",
    "6. Region                 \n",
    "7. Category                         \n",
    "8. Sub-category \n",
    "\n",
    "##### Numeric:\n",
    "1. Postal code\n",
    "2. Sales                        \n",
    "3. Quantity                   \n",
    "4. Discount  \n",
    "5. Profit"
   ]
  },
  {
   "cell_type": "markdown",
   "metadata": {},
   "source": [
    "##### Variable Category:\n",
    "###### Categorical:\n",
    "1. Ship mode\n",
    "2. Segment\n",
    "3. City\n",
    "4. Country\n",
    "5. State\n",
    "6. Category\n",
    "7. Sub-Category\n",
    "8. Quantity\n",
    "\n",
    "###### Continuous:\n",
    "1. Discount\n",
    "2. Profit                                    \n",
    "3. Sales\n",
    "\n",
    "###### Discreet:\n",
    "1. Postal code\n",
    "2. region"
   ]
  },
  {
   "cell_type": "code",
   "execution_count": 5,
   "metadata": {},
   "outputs": [
    {
     "name": "stdout",
     "output_type": "stream",
     "text": [
      "<class 'pandas.core.frame.DataFrame'>\n",
      "RangeIndex: 9994 entries, 0 to 9993\n",
      "Data columns (total 13 columns):\n",
      "Ship Mode       9994 non-null object\n",
      "Segment         9994 non-null object\n",
      "Country         9994 non-null object\n",
      "City            9994 non-null object\n",
      "State           9994 non-null object\n",
      "Postal Code     9994 non-null int64\n",
      "Region          9994 non-null object\n",
      "Category        9994 non-null object\n",
      "Sub-Category    9994 non-null object\n",
      "Sales           9994 non-null float64\n",
      "Quantity        9994 non-null int64\n",
      "Discount        9994 non-null float64\n",
      "Profit          9994 non-null float64\n",
      "dtypes: float64(3), int64(2), object(8)\n",
      "memory usage: 1015.1+ KB\n"
     ]
    }
   ],
   "source": [
    "df.info()"
   ]
  },
  {
   "cell_type": "code",
   "execution_count": 6,
   "metadata": {},
   "outputs": [
    {
     "data": {
      "text/html": [
       "<div>\n",
       "<style scoped>\n",
       "    .dataframe tbody tr th:only-of-type {\n",
       "        vertical-align: middle;\n",
       "    }\n",
       "\n",
       "    .dataframe tbody tr th {\n",
       "        vertical-align: top;\n",
       "    }\n",
       "\n",
       "    .dataframe thead th {\n",
       "        text-align: right;\n",
       "    }\n",
       "</style>\n",
       "<table border=\"1\" class=\"dataframe\">\n",
       "  <thead>\n",
       "    <tr style=\"text-align: right;\">\n",
       "      <th></th>\n",
       "      <th>Postal Code</th>\n",
       "      <th>Sales</th>\n",
       "      <th>Quantity</th>\n",
       "      <th>Discount</th>\n",
       "      <th>Profit</th>\n",
       "    </tr>\n",
       "  </thead>\n",
       "  <tbody>\n",
       "    <tr>\n",
       "      <td>count</td>\n",
       "      <td>9994.000000</td>\n",
       "      <td>9994.000000</td>\n",
       "      <td>9994.000000</td>\n",
       "      <td>9994.000000</td>\n",
       "      <td>9994.000000</td>\n",
       "    </tr>\n",
       "    <tr>\n",
       "      <td>mean</td>\n",
       "      <td>55190.379428</td>\n",
       "      <td>229.858001</td>\n",
       "      <td>3.789574</td>\n",
       "      <td>0.156203</td>\n",
       "      <td>28.656896</td>\n",
       "    </tr>\n",
       "    <tr>\n",
       "      <td>std</td>\n",
       "      <td>32063.693350</td>\n",
       "      <td>623.245101</td>\n",
       "      <td>2.225110</td>\n",
       "      <td>0.206452</td>\n",
       "      <td>234.260108</td>\n",
       "    </tr>\n",
       "    <tr>\n",
       "      <td>min</td>\n",
       "      <td>1040.000000</td>\n",
       "      <td>0.444000</td>\n",
       "      <td>1.000000</td>\n",
       "      <td>0.000000</td>\n",
       "      <td>-6599.978000</td>\n",
       "    </tr>\n",
       "    <tr>\n",
       "      <td>25%</td>\n",
       "      <td>23223.000000</td>\n",
       "      <td>17.280000</td>\n",
       "      <td>2.000000</td>\n",
       "      <td>0.000000</td>\n",
       "      <td>1.728750</td>\n",
       "    </tr>\n",
       "    <tr>\n",
       "      <td>50%</td>\n",
       "      <td>56430.500000</td>\n",
       "      <td>54.490000</td>\n",
       "      <td>3.000000</td>\n",
       "      <td>0.200000</td>\n",
       "      <td>8.666500</td>\n",
       "    </tr>\n",
       "    <tr>\n",
       "      <td>75%</td>\n",
       "      <td>90008.000000</td>\n",
       "      <td>209.940000</td>\n",
       "      <td>5.000000</td>\n",
       "      <td>0.200000</td>\n",
       "      <td>29.364000</td>\n",
       "    </tr>\n",
       "    <tr>\n",
       "      <td>max</td>\n",
       "      <td>99301.000000</td>\n",
       "      <td>22638.480000</td>\n",
       "      <td>14.000000</td>\n",
       "      <td>0.800000</td>\n",
       "      <td>8399.976000</td>\n",
       "    </tr>\n",
       "  </tbody>\n",
       "</table>\n",
       "</div>"
      ],
      "text/plain": [
       "        Postal Code         Sales     Quantity     Discount       Profit\n",
       "count   9994.000000   9994.000000  9994.000000  9994.000000  9994.000000\n",
       "mean   55190.379428    229.858001     3.789574     0.156203    28.656896\n",
       "std    32063.693350    623.245101     2.225110     0.206452   234.260108\n",
       "min     1040.000000      0.444000     1.000000     0.000000 -6599.978000\n",
       "25%    23223.000000     17.280000     2.000000     0.000000     1.728750\n",
       "50%    56430.500000     54.490000     3.000000     0.200000     8.666500\n",
       "75%    90008.000000    209.940000     5.000000     0.200000    29.364000\n",
       "max    99301.000000  22638.480000    14.000000     0.800000  8399.976000"
      ]
     },
     "execution_count": 6,
     "metadata": {},
     "output_type": "execute_result"
    }
   ],
   "source": [
    "# Gives us the statistical information of the numeric columns from our dataframe\n",
    "df.describe()"
   ]
  },
  {
   "cell_type": "markdown",
   "metadata": {},
   "source": [
    "### Step 2: Univariate Analysis\n",
    "1. Univariate analysis is the simplest form of analyzing data. “Uni” means “one”, so we analyze one variable at one time\n",
    "2. It doesn’t deal with causes or relationships among variables but mostly to describe and summarize and find patterns in the data\n",
    "3. Used to highlight missing and outlier values\n",
    "4. Method to perform univariate analysis depends on whether the variable type is categorical or continuous\n",
    "\n",
    "##### Categorical Variables - UNIVARIATE ANALYSIS\n",
    "Visualization of the Categorical variable is shown through the BarPlot."
   ]
  },
  {
   "cell_type": "code",
   "execution_count": 7,
   "metadata": {},
   "outputs": [
    {
     "data": {
      "text/plain": [
       "<matplotlib.axes._subplots.AxesSubplot at 0x2abd66eedc8>"
      ]
     },
     "execution_count": 7,
     "metadata": {},
     "output_type": "execute_result"
    },
    {
     "data": {
      "image/png": "[encoded data removed]",
      "text/plain": [
       "<Figure size 432x288 with 1 Axes>"
      ]
     },
     "metadata": {
      "needs_background": "light"
     },
     "output_type": "display_data"
    }
   ],
   "source": [
    "# Gives the count of different segments in the dataset\n",
    "sns.countplot(x='Segment', data=df)"
   ]
  },
  {
   "cell_type": "markdown",
   "metadata": {},
   "source": [
    "###### As we can see the BarPlot above, we observe that our data has more number of Consumers than Corporate Segment than Home Office in the dataset."
   ]
  },
  {
   "cell_type": "code",
   "execution_count": 8,
   "metadata": {},
   "outputs": [
    {
     "data": {
      "image/png": "[encoded data removed]",
      "text/plain": [
       "<Figure size 432x288 with 1 Axes>"
      ]
     },
     "metadata": {
      "needs_background": "light"
     },
     "output_type": "display_data"
    }
   ],
   "source": [
    "sns.countplot(x='Ship Mode', data=df)\n",
    "plt.xticks(rotation=45)\n",
    "plt.show()"
   ]
  },
  {
   "cell_type": "code",
   "execution_count": 9,
   "metadata": {},
   "outputs": [
    {
     "data": {
      "text/plain": [
       "<matplotlib.axes._subplots.AxesSubplot at 0x2abd5f0a7c8>"
      ]
     },
     "execution_count": 9,
     "metadata": {},
     "output_type": "execute_result"
    },
    {
     "data": {
      "image/png": "[encoded data removed]",
      "text/plain": [
       "<Figure size 432x288 with 1 Axes>"
      ]
     },
     "metadata": {
      "needs_background": "light"
     },
     "output_type": "display_data"
    }
   ],
   "source": [
    "sns.countplot(x='Category', data=df)"
   ]
  },
  {
   "cell_type": "markdown",
   "metadata": {},
   "source": [
    "##### Continuous Variables - UNIVARIATE ANALYSIS"
   ]
  },
  {
   "cell_type": "code",
   "execution_count": 10,
   "metadata": {},
   "outputs": [
    {
     "data": {
      "text/plain": [
       "<matplotlib.axes._subplots.AxesSubplot at 0x2abd69d2348>"
      ]
     },
     "execution_count": 10,
     "metadata": {},
     "output_type": "execute_result"
    },
    {
     "data": {
      "image/png": "[encoded data removed]",
      "text/plain": [
       "<Figure size 432x288 with 1 Axes>"
      ]
     },
     "metadata": {
      "needs_background": "light"
     },
     "output_type": "display_data"
    }
   ],
   "source": [
    "sns.boxplot(y='Profit', data=df)"
   ]
  },
  {
   "cell_type": "code",
   "execution_count": 11,
   "metadata": {},
   "outputs": [
    {
     "data": {
      "text/plain": [
       "<matplotlib.axes._subplots.AxesSubplot at 0x2abd6b54348>"
      ]
     },
     "execution_count": 11,
     "metadata": {},
     "output_type": "execute_result"
    },
    {
     "data": {
      "image/png": "[encoded data removed]",
      "text/plain": [
       "<Figure size 432x288 with 1 Axes>"
      ]
     },
     "metadata": {
      "needs_background": "light"
     },
     "output_type": "display_data"
    }
   ],
   "source": [
    "sns.boxplot(y='Sales', data=df)"
   ]
  },
  {
   "cell_type": "code",
   "execution_count": 12,
   "metadata": {},
   "outputs": [
    {
     "data": {
      "text/plain": [
       "<matplotlib.axes._subplots.AxesSubplot at 0x2abd6a1d348>"
      ]
     },
     "execution_count": 12,
     "metadata": {},
     "output_type": "execute_result"
    },
    {
     "data": {
      "image/png": "[encoded data removed]",
      "text/plain": [
       "<Figure size 432x288 with 1 Axes>"
      ]
     },
     "metadata": {
      "needs_background": "light"
     },
     "output_type": "display_data"
    }
   ],
   "source": [
    "sns.distplot(df['Sales'], bins=4)"
   ]
  },
  {
   "cell_type": "code",
   "execution_count": 13,
   "metadata": {},
   "outputs": [
    {
     "data": {
      "text/plain": [
       "<matplotlib.axes._subplots.AxesSubplot at 0x2abd6bdf948>"
      ]
     },
     "execution_count": 13,
     "metadata": {},
     "output_type": "execute_result"
    },
    {
     "data": {
      "image/png": "[encoded data removed]",
      "text/plain": [
       "<Figure size 432x288 with 1 Axes>"
      ]
     },
     "metadata": {
      "needs_background": "light"
     },
     "output_type": "display_data"
    }
   ],
   "source": [
    "sns.distplot(df['Quantity'], bins=4)"
   ]
  },
  {
   "cell_type": "markdown",
   "metadata": {},
   "source": [
    "### Step 3: Bivariate Analysis\n",
    "1. In Univariate Analysis, we study one variable at a time, like we did in earlier slides, but if we want to find if there is any relation between two variables we need to perform bivariate analysis.\n",
    "2. Bivariate analysis, can be performed Categorical & Categoricalfor any combination of categorical and continuous variables\n",
    "3. Different methods are used to tackle different combinations during analysis process.\n",
    "4. Possible Combinations are:\n",
    "\n",
    " a. Continuous & Continuous\\\n",
    " b. Continuous & Categorical\\\n",
    " c. Categorical & Categorical"
   ]
  },
  {
   "cell_type": "markdown",
   "metadata": {},
   "source": [
    "##### Continuous & Continuous"
   ]
  },
  {
   "cell_type": "markdown",
   "metadata": {},
   "source": [
    "###### Scatter plot\n",
    "1. find out the relationship between two variables\n",
    "2. The pattern of scatter plot indicates the relationship between variables, but does not\n",
    "indicates the strength of relationship amongst them\n",
    "3. The relationship can be linear or non-linear\n",
    "4. To find the strength of the relationship, we use Correlation(-1 negative linear correlation\n",
    "to +1 positive linear correlation and 0 is no correlation).\n",
    "5. We get an idea of some relation and pattern among 2 variables in the datase"
   ]
  },
  {
   "cell_type": "markdown",
   "metadata": {},
   "source": [
    "###### Continuous:\n",
    "1. Discount\n",
    "2. Profit                                    \n",
    "3. Sales"
   ]
  },
  {
   "cell_type": "code",
   "execution_count": 14,
   "metadata": {},
   "outputs": [
    {
     "data": {
      "image/png": "[encoded data removed]",
      "text/plain": [
       "<Figure size 432x288 with 1 Axes>"
      ]
     },
     "metadata": {
      "needs_background": "light"
     },
     "output_type": "display_data"
    }
   ],
   "source": [
    "plt.scatter(df['Sales'], df['Discount'])\n",
    "plt.title('Sales vs Discount', fontdict={'fontsize':20})\n",
    "plt.xlabel('Sales')\n",
    "plt.ylabel('Discount')\n",
    "plt.show()"
   ]
  },
  {
   "cell_type": "code",
   "execution_count": 15,
   "metadata": {},
   "outputs": [
    {
     "data": {
      "image/png": "[encoded data removed]",
      "text/plain": [
       "<Figure size 432x288 with 1 Axes>"
      ]
     },
     "metadata": {
      "needs_background": "light"
     },
     "output_type": "display_data"
    }
   ],
   "source": [
    "plt.scatter(df['Sales'], df['Profit'])\n",
    "plt.title('Sales vs Profit', fontdict={'fontsize':20})\n",
    "plt.xlabel('Sales')\n",
    "plt.ylabel('Profit')\n",
    "plt.show()"
   ]
  },
  {
   "cell_type": "code",
   "execution_count": 16,
   "metadata": {},
   "outputs": [
    {
     "data": {
      "text/plain": [
       "<matplotlib.axes._subplots.AxesSubplot at 0x2abd6d64bc8>"
      ]
     },
     "execution_count": 16,
     "metadata": {},
     "output_type": "execute_result"
    },
    {
     "data": {
      "image/png": "[encoded data removed]",
      "text/plain": [
       "<Figure size 432x288 with 2 Axes>"
      ]
     },
     "metadata": {
      "needs_background": "light"
     },
     "output_type": "display_data"
    }
   ],
   "source": [
    "sns.heatmap(df.corr(), annot=True, linewidth=0.3)"
   ]
  },
  {
   "cell_type": "code",
   "execution_count": 17,
   "metadata": {},
   "outputs": [
    {
     "data": {
      "text/plain": [
       "<seaborn.axisgrid.PairGrid at 0x2abd6e41ec8>"
      ]
     },
     "execution_count": 17,
     "metadata": {},
     "output_type": "execute_result"
    },
    {
     "data": {
      "image/png": "[encoded data removed]",
      "text/plain": [
       "<Figure size 900x900 with 30 Axes>"
      ]
     },
     "metadata": {
      "needs_background": "light"
     },
     "output_type": "display_data"
    }
   ],
   "source": [
    "sns.pairplot(df)"
   ]
  },
  {
   "cell_type": "markdown",
   "metadata": {},
   "source": [
    "##### Categorical & Categorical"
   ]
  },
  {
   "cell_type": "markdown",
   "metadata": {},
   "source": [
    "Two-Way Table: In this method by creating a two-way table of count and count%. Both row and column represents category of their respected variable.\\\n",
    "Stacked Column Chart: This method is one of the most visual form of Two-way table"
   ]
  },
  {
   "cell_type": "markdown",
   "metadata": {},
   "source": [
    "###### Categorical:\n",
    "1. Ship mode\n",
    "2. Segment\n",
    "3. City\n",
    "4. Country\n",
    "5. State\n",
    "6. Category\n",
    "7. Sub-Category\n",
    "8. Quantity\n",
    "\n",
    "###### Continuous:\n",
    "1. Discount\n",
    "2. Profit                                    \n",
    "3. Sales"
   ]
  },
  {
   "cell_type": "code",
   "execution_count": 18,
   "metadata": {},
   "outputs": [
    {
     "data": {
      "text/plain": [
       "Segment      Quantity\n",
       "Consumer     1            458\n",
       "             2           1254\n",
       "             3           1294\n",
       "             4            616\n",
       "             5            642\n",
       "             6            289\n",
       "             7            299\n",
       "             8            117\n",
       "             9            136\n",
       "             10            25\n",
       "             11            18\n",
       "             12            11\n",
       "             13            16\n",
       "             14            16\n",
       "Corporate    1            257\n",
       "             2            729\n",
       "             3            720\n",
       "             4            339\n",
       "             5            372\n",
       "             6            175\n",
       "             7            211\n",
       "             8             90\n",
       "             9             72\n",
       "             10            23\n",
       "             11            11\n",
       "             12             7\n",
       "             13             9\n",
       "             14             5\n",
       "Home Office  1            184\n",
       "             2            419\n",
       "             3            395\n",
       "             4            236\n",
       "             5            216\n",
       "             6            108\n",
       "             7             96\n",
       "             8             50\n",
       "             9             50\n",
       "             10             9\n",
       "             11             5\n",
       "             12             5\n",
       "             13             2\n",
       "             14             8\n",
       "dtype: int64"
      ]
     },
     "execution_count": 18,
     "metadata": {},
     "output_type": "execute_result"
    }
   ],
   "source": [
    "counts = df.groupby(['Segment', 'Quantity'], axis=0)\n",
    "counts.size()"
   ]
  },
  {
   "cell_type": "code",
   "execution_count": 19,
   "metadata": {
    "scrolled": true
   },
   "outputs": [
    {
     "data": {
      "text/plain": [
       "Ship Mode       State        \n",
       "First Class     Alabama            9\n",
       "                Arizona           42\n",
       "                Arkansas          10\n",
       "                California       322\n",
       "                Colorado          44\n",
       "                                ... \n",
       "Standard Class  Virginia         126\n",
       "                Washington       294\n",
       "                West Virginia      3\n",
       "                Wisconsin         76\n",
       "                Wyoming            1\n",
       "Length: 176, dtype: int64"
      ]
     },
     "execution_count": 19,
     "metadata": {},
     "output_type": "execute_result"
    }
   ],
   "source": [
    "counts = df.groupby(['Ship Mode', 'State'], axis=0)\n",
    "counts.size()"
   ]
  },
  {
   "cell_type": "code",
   "execution_count": 20,
   "metadata": {},
   "outputs": [
    {
     "data": {
      "text/plain": [
       "<matplotlib.axes._subplots.AxesSubplot at 0x2abd778a788>"
      ]
     },
     "execution_count": 20,
     "metadata": {},
     "output_type": "execute_result"
    },
    {
     "data": {
      "image/png": "[encoded data removed]",
      "text/plain": [
       "<Figure size 432x288 with 1 Axes>"
      ]
     },
     "metadata": {
      "needs_background": "light"
     },
     "output_type": "display_data"
    }
   ],
   "source": [
    "pd.crosstab(df['Segment'],df['Ship Mode']).plot(kind='bar', stacked=True)"
   ]
  },
  {
   "cell_type": "markdown",
   "metadata": {},
   "source": [
    "### Step 4: Missing Values Treatment"
   ]
  },
  {
   "cell_type": "markdown",
   "metadata": {},
   "source": [
    "1. There may be situations where there could be missing values in your data.\n",
    "2. Missing Data will not make any impact on the result if its percentage is less 1%, if missing data’s range within the range of 1-5% then it is somehow manageable; however in case of 5-15% complex techniques are used for handling the problems of missing data but if it exceeds from 15% then it will surely hinder the result achieved after applying data mining techniques\n",
    "3. Handling such values is very important as this could lead to wrong results\n",
    "4. Missing values could occur due to several reasons like,\\\n",
    " a. – During data extraction i.e. while fetching the data\n",
    " required for the analysis\\\n",
    " b. – During data collection itself there could be some fi\n",
    "elds for which the values may not have been collected.\n",
    "5. But there are ways to handle these problems"
   ]
  },
  {
   "cell_type": "code",
   "execution_count": 21,
   "metadata": {},
   "outputs": [
    {
     "data": {
      "text/html": [
       "<div>\n",
       "<style scoped>\n",
       "    .dataframe tbody tr th:only-of-type {\n",
       "        vertical-align: middle;\n",
       "    }\n",
       "\n",
       "    .dataframe tbody tr th {\n",
       "        vertical-align: top;\n",
       "    }\n",
       "\n",
       "    .dataframe thead th {\n",
       "        text-align: right;\n",
       "    }\n",
       "</style>\n",
       "<table border=\"1\" class=\"dataframe\">\n",
       "  <thead>\n",
       "    <tr style=\"text-align: right;\">\n",
       "      <th></th>\n",
       "      <th>Ship Mode</th>\n",
       "      <th>Segment</th>\n",
       "      <th>Country</th>\n",
       "      <th>City</th>\n",
       "      <th>State</th>\n",
       "      <th>Postal Code</th>\n",
       "      <th>Region</th>\n",
       "      <th>Category</th>\n",
       "      <th>Sub-Category</th>\n",
       "      <th>Sales</th>\n",
       "      <th>Quantity</th>\n",
       "      <th>Discount</th>\n",
       "      <th>Profit</th>\n",
       "    </tr>\n",
       "  </thead>\n",
       "  <tbody>\n",
       "    <tr>\n",
       "      <td>0</td>\n",
       "      <td>False</td>\n",
       "      <td>False</td>\n",
       "      <td>False</td>\n",
       "      <td>False</td>\n",
       "      <td>False</td>\n",
       "      <td>False</td>\n",
       "      <td>False</td>\n",
       "      <td>False</td>\n",
       "      <td>False</td>\n",
       "      <td>False</td>\n",
       "      <td>False</td>\n",
       "      <td>False</td>\n",
       "      <td>False</td>\n",
       "    </tr>\n",
       "    <tr>\n",
       "      <td>1</td>\n",
       "      <td>False</td>\n",
       "      <td>False</td>\n",
       "      <td>False</td>\n",
       "      <td>False</td>\n",
       "      <td>False</td>\n",
       "      <td>False</td>\n",
       "      <td>False</td>\n",
       "      <td>False</td>\n",
       "      <td>False</td>\n",
       "      <td>False</td>\n",
       "      <td>False</td>\n",
       "      <td>False</td>\n",
       "      <td>False</td>\n",
       "    </tr>\n",
       "    <tr>\n",
       "      <td>2</td>\n",
       "      <td>False</td>\n",
       "      <td>False</td>\n",
       "      <td>False</td>\n",
       "      <td>False</td>\n",
       "      <td>False</td>\n",
       "      <td>False</td>\n",
       "      <td>False</td>\n",
       "      <td>False</td>\n",
       "      <td>False</td>\n",
       "      <td>False</td>\n",
       "      <td>False</td>\n",
       "      <td>False</td>\n",
       "      <td>False</td>\n",
       "    </tr>\n",
       "    <tr>\n",
       "      <td>3</td>\n",
       "      <td>False</td>\n",
       "      <td>False</td>\n",
       "      <td>False</td>\n",
       "      <td>False</td>\n",
       "      <td>False</td>\n",
       "      <td>False</td>\n",
       "      <td>False</td>\n",
       "      <td>False</td>\n",
       "      <td>False</td>\n",
       "      <td>False</td>\n",
       "      <td>False</td>\n",
       "      <td>False</td>\n",
       "      <td>False</td>\n",
       "    </tr>\n",
       "    <tr>\n",
       "      <td>4</td>\n",
       "      <td>False</td>\n",
       "      <td>False</td>\n",
       "      <td>False</td>\n",
       "      <td>False</td>\n",
       "      <td>False</td>\n",
       "      <td>False</td>\n",
       "      <td>False</td>\n",
       "      <td>False</td>\n",
       "      <td>False</td>\n",
       "      <td>False</td>\n",
       "      <td>False</td>\n",
       "      <td>False</td>\n",
       "      <td>False</td>\n",
       "    </tr>\n",
       "    <tr>\n",
       "      <td>...</td>\n",
       "      <td>...</td>\n",
       "      <td>...</td>\n",
       "      <td>...</td>\n",
       "      <td>...</td>\n",
       "      <td>...</td>\n",
       "      <td>...</td>\n",
       "      <td>...</td>\n",
       "      <td>...</td>\n",
       "      <td>...</td>\n",
       "      <td>...</td>\n",
       "      <td>...</td>\n",
       "      <td>...</td>\n",
       "      <td>...</td>\n",
       "    </tr>\n",
       "    <tr>\n",
       "      <td>9989</td>\n",
       "      <td>False</td>\n",
       "      <td>False</td>\n",
       "      <td>False</td>\n",
       "      <td>False</td>\n",
       "      <td>False</td>\n",
       "      <td>False</td>\n",
       "      <td>False</td>\n",
       "      <td>False</td>\n",
       "      <td>False</td>\n",
       "      <td>False</td>\n",
       "      <td>False</td>\n",
       "      <td>False</td>\n",
       "      <td>False</td>\n",
       "    </tr>\n",
       "    <tr>\n",
       "      <td>9990</td>\n",
       "      <td>False</td>\n",
       "      <td>False</td>\n",
       "      <td>False</td>\n",
       "      <td>False</td>\n",
       "      <td>False</td>\n",
       "      <td>False</td>\n",
       "      <td>False</td>\n",
       "      <td>False</td>\n",
       "      <td>False</td>\n",
       "      <td>False</td>\n",
       "      <td>False</td>\n",
       "      <td>False</td>\n",
       "      <td>False</td>\n",
       "    </tr>\n",
       "    <tr>\n",
       "      <td>9991</td>\n",
       "      <td>False</td>\n",
       "      <td>False</td>\n",
       "      <td>False</td>\n",
       "      <td>False</td>\n",
       "      <td>False</td>\n",
       "      <td>False</td>\n",
       "      <td>False</td>\n",
       "      <td>False</td>\n",
       "      <td>False</td>\n",
       "      <td>False</td>\n",
       "      <td>False</td>\n",
       "      <td>False</td>\n",
       "      <td>False</td>\n",
       "    </tr>\n",
       "    <tr>\n",
       "      <td>9992</td>\n",
       "      <td>False</td>\n",
       "      <td>False</td>\n",
       "      <td>False</td>\n",
       "      <td>False</td>\n",
       "      <td>False</td>\n",
       "      <td>False</td>\n",
       "      <td>False</td>\n",
       "      <td>False</td>\n",
       "      <td>False</td>\n",
       "      <td>False</td>\n",
       "      <td>False</td>\n",
       "      <td>False</td>\n",
       "      <td>False</td>\n",
       "    </tr>\n",
       "    <tr>\n",
       "      <td>9993</td>\n",
       "      <td>False</td>\n",
       "      <td>False</td>\n",
       "      <td>False</td>\n",
       "      <td>False</td>\n",
       "      <td>False</td>\n",
       "      <td>False</td>\n",
       "      <td>False</td>\n",
       "      <td>False</td>\n",
       "      <td>False</td>\n",
       "      <td>False</td>\n",
       "      <td>False</td>\n",
       "      <td>False</td>\n",
       "      <td>False</td>\n",
       "    </tr>\n",
       "  </tbody>\n",
       "</table>\n",
       "<p>9994 rows × 13 columns</p>\n",
       "</div>"
      ],
      "text/plain": [
       "      Ship Mode  Segment  Country   City  State  Postal Code  Region  \\\n",
       "0         False    False    False  False  False        False   False   \n",
       "1         False    False    False  False  False        False   False   \n",
       "2         False    False    False  False  False        False   False   \n",
       "3         False    False    False  False  False        False   False   \n",
       "4         False    False    False  False  False        False   False   \n",
       "...         ...      ...      ...    ...    ...          ...     ...   \n",
       "9989      False    False    False  False  False        False   False   \n",
       "9990      False    False    False  False  False        False   False   \n",
       "9991      False    False    False  False  False        False   False   \n",
       "9992      False    False    False  False  False        False   False   \n",
       "9993      False    False    False  False  False        False   False   \n",
       "\n",
       "      Category  Sub-Category  Sales  Quantity  Discount  Profit  \n",
       "0        False         False  False     False     False   False  \n",
       "1        False         False  False     False     False   False  \n",
       "2        False         False  False     False     False   False  \n",
       "3        False         False  False     False     False   False  \n",
       "4        False         False  False     False     False   False  \n",
       "...        ...           ...    ...       ...       ...     ...  \n",
       "9989     False         False  False     False     False   False  \n",
       "9990     False         False  False     False     False   False  \n",
       "9991     False         False  False     False     False   False  \n",
       "9992     False         False  False     False     False   False  \n",
       "9993     False         False  False     False     False   False  \n",
       "\n",
       "[9994 rows x 13 columns]"
      ]
     },
     "execution_count": 21,
     "metadata": {},
     "output_type": "execute_result"
    }
   ],
   "source": [
    "df.isnull()"
   ]
  },
  {
   "cell_type": "code",
   "execution_count": 22,
   "metadata": {},
   "outputs": [
    {
     "data": {
      "text/plain": [
       "False"
      ]
     },
     "execution_count": 22,
     "metadata": {},
     "output_type": "execute_result"
    }
   ],
   "source": [
    "df.isnull().values.any()"
   ]
  },
  {
   "cell_type": "code",
   "execution_count": 23,
   "metadata": {},
   "outputs": [
    {
     "name": "stdout",
     "output_type": "stream",
     "text": [
      "<class 'pandas.core.frame.DataFrame'>\n",
      "RangeIndex: 9994 entries, 0 to 9993\n",
      "Data columns (total 13 columns):\n",
      "Ship Mode       9994 non-null object\n",
      "Segment         9994 non-null object\n",
      "Country         9994 non-null object\n",
      "City            9994 non-null object\n",
      "State           9994 non-null object\n",
      "Postal Code     9994 non-null int64\n",
      "Region          9994 non-null object\n",
      "Category        9994 non-null object\n",
      "Sub-Category    9994 non-null object\n",
      "Sales           9994 non-null float64\n",
      "Quantity        9994 non-null int64\n",
      "Discount        9994 non-null float64\n",
      "Profit          9994 non-null float64\n",
      "dtypes: float64(3), int64(2), object(8)\n",
      "memory usage: 1015.1+ KB\n"
     ]
    }
   ],
   "source": [
    "df.info()"
   ]
  },
  {
   "cell_type": "code",
   "execution_count": 24,
   "metadata": {},
   "outputs": [
    {
     "data": {
      "text/html": [
       "<div>\n",
       "<style scoped>\n",
       "    .dataframe tbody tr th:only-of-type {\n",
       "        vertical-align: middle;\n",
       "    }\n",
       "\n",
       "    .dataframe tbody tr th {\n",
       "        vertical-align: top;\n",
       "    }\n",
       "\n",
       "    .dataframe thead th {\n",
       "        text-align: right;\n",
       "    }\n",
       "</style>\n",
       "<table border=\"1\" class=\"dataframe\">\n",
       "  <thead>\n",
       "    <tr style=\"text-align: right;\">\n",
       "      <th></th>\n",
       "      <th>Postal Code</th>\n",
       "      <th>Sales</th>\n",
       "      <th>Quantity</th>\n",
       "      <th>Discount</th>\n",
       "      <th>Profit</th>\n",
       "    </tr>\n",
       "  </thead>\n",
       "  <tbody>\n",
       "    <tr>\n",
       "      <td>count</td>\n",
       "      <td>9994.000000</td>\n",
       "      <td>9994.000000</td>\n",
       "      <td>9994.000000</td>\n",
       "      <td>9994.000000</td>\n",
       "      <td>9994.000000</td>\n",
       "    </tr>\n",
       "    <tr>\n",
       "      <td>mean</td>\n",
       "      <td>55190.379428</td>\n",
       "      <td>229.858001</td>\n",
       "      <td>3.789574</td>\n",
       "      <td>0.156203</td>\n",
       "      <td>28.656896</td>\n",
       "    </tr>\n",
       "    <tr>\n",
       "      <td>std</td>\n",
       "      <td>32063.693350</td>\n",
       "      <td>623.245101</td>\n",
       "      <td>2.225110</td>\n",
       "      <td>0.206452</td>\n",
       "      <td>234.260108</td>\n",
       "    </tr>\n",
       "    <tr>\n",
       "      <td>min</td>\n",
       "      <td>1040.000000</td>\n",
       "      <td>0.444000</td>\n",
       "      <td>1.000000</td>\n",
       "      <td>0.000000</td>\n",
       "      <td>-6599.978000</td>\n",
       "    </tr>\n",
       "    <tr>\n",
       "      <td>25%</td>\n",
       "      <td>23223.000000</td>\n",
       "      <td>17.280000</td>\n",
       "      <td>2.000000</td>\n",
       "      <td>0.000000</td>\n",
       "      <td>1.728750</td>\n",
       "    </tr>\n",
       "    <tr>\n",
       "      <td>50%</td>\n",
       "      <td>56430.500000</td>\n",
       "      <td>54.490000</td>\n",
       "      <td>3.000000</td>\n",
       "      <td>0.200000</td>\n",
       "      <td>8.666500</td>\n",
       "    </tr>\n",
       "    <tr>\n",
       "      <td>75%</td>\n",
       "      <td>90008.000000</td>\n",
       "      <td>209.940000</td>\n",
       "      <td>5.000000</td>\n",
       "      <td>0.200000</td>\n",
       "      <td>29.364000</td>\n",
       "    </tr>\n",
       "    <tr>\n",
       "      <td>max</td>\n",
       "      <td>99301.000000</td>\n",
       "      <td>22638.480000</td>\n",
       "      <td>14.000000</td>\n",
       "      <td>0.800000</td>\n",
       "      <td>8399.976000</td>\n",
       "    </tr>\n",
       "  </tbody>\n",
       "</table>\n",
       "</div>"
      ],
      "text/plain": [
       "        Postal Code         Sales     Quantity     Discount       Profit\n",
       "count   9994.000000   9994.000000  9994.000000  9994.000000  9994.000000\n",
       "mean   55190.379428    229.858001     3.789574     0.156203    28.656896\n",
       "std    32063.693350    623.245101     2.225110     0.206452   234.260108\n",
       "min     1040.000000      0.444000     1.000000     0.000000 -6599.978000\n",
       "25%    23223.000000     17.280000     2.000000     0.000000     1.728750\n",
       "50%    56430.500000     54.490000     3.000000     0.200000     8.666500\n",
       "75%    90008.000000    209.940000     5.000000     0.200000    29.364000\n",
       "max    99301.000000  22638.480000    14.000000     0.800000  8399.976000"
      ]
     },
     "execution_count": 24,
     "metadata": {},
     "output_type": "execute_result"
    }
   ],
   "source": [
    "df.describe()"
   ]
  },
  {
   "cell_type": "code",
   "execution_count": 25,
   "metadata": {},
   "outputs": [
    {
     "data": {
      "text/plain": [
       "Ship Mode       0\n",
       "Segment         0\n",
       "Country         0\n",
       "City            0\n",
       "State           0\n",
       "Postal Code     0\n",
       "Region          0\n",
       "Category        0\n",
       "Sub-Category    0\n",
       "Sales           0\n",
       "Quantity        0\n",
       "Discount        0\n",
       "Profit          0\n",
       "dtype: int64"
      ]
     },
     "execution_count": 25,
     "metadata": {},
     "output_type": "execute_result"
    }
   ],
   "source": [
    "df.isnull().sum()"
   ]
  },
  {
   "cell_type": "markdown",
   "metadata": {},
   "source": [
    "##### 1. Deletion: Deleting observations or variables.\n",
    "\n",
    "If a particular variable is having more missing values than rest of the variables in the dataset, then we are better off without that variable unless it is a really important predictor that makes a lot of business sense.\n",
    "\n",
    "Also, if in a huge dataset we have very minute number of observations missing, then we can delete the whole of observations altogether"
   ]
  },
  {
   "cell_type": "markdown",
   "metadata": {},
   "source": [
    "##### 2. Single Imputation: In single imputation, we use mean, median or mode.\n",
    "If the variable is numeric then replace the missing values with either mean, median or mode.\\\n",
    "If the variable is otherwise generally normally distributed (and in particular does not have any skewness), we would choose mean.\\\n",
    "If the data skewed, median imputation is suggested.\\\n",
    "If the variable is categorical then we could replace the missing values with the most frequent occurring value in that variable, i.e the mode.\\\n",
    "We use the fillna function of pandas to replace na values with the value of our interest and inplace=True command makes the permanently changes the value in that dataframe\n",
    "\n",
    "###### dataframe.['col_name'].fillna(0, inplace=True)\n",
    "\n",
    "We can see that the variable Rooms has 3 missing values, we need to find a way to replace the missing values.\n"
   ]
  },
  {
   "cell_type": "code",
   "execution_count": 26,
   "metadata": {},
   "outputs": [
    {
     "data": {
      "text/plain": [
       "array([[<matplotlib.axes._subplots.AxesSubplot object at 0x000002ABD66F7448>]],\n",
       "      dtype=object)"
      ]
     },
     "execution_count": 26,
     "metadata": {},
     "output_type": "execute_result"
    },
    {
     "data": {
      "image/png": "[encoded data removed]",
      "text/plain": [
       "<Figure size 432x288 with 1 Axes>"
      ]
     },
     "metadata": {
      "needs_background": "light"
     },
     "output_type": "display_data"
    }
   ],
   "source": [
    "df.hist(column=['Quantity'], bins=10)"
   ]
  },
  {
   "cell_type": "markdown",
   "metadata": {},
   "source": [
    "##### Constant:\n",
    "This choice allows us to provide our own default value to fill in the gaps.\\\n",
    "This might be an integer or real number for numeric variables, or else a special marker or the choice of something other than the majority category for Categorical variables.\n",
    "\n",
    "##### Closest fit:\n",
    "The closest fit algorithm depends upon exchanging absent values with present value of the similar attribute of other likewise cases. \\\n",
    "Main notion is to find out from dataset likewise scenarios and select the likewise case to the case in discussion with missing attribute values. This method is more useful for a small dataset\n",
    "\n"
   ]
  },
  {
   "cell_type": "markdown",
   "metadata": {},
   "source": [
    "## Step 5: Outliers\n",
    "##### What is an Outlier?\n",
    "1. Outlier is an observation that appears far away and diverges from an overall pattern in a sample.\n",
    "2. Outliers can drastically change the results of the data analysis and statistical modeling.\n",
    "There are numerous unfavorable impacts of outliers in the data set:\n",
    " a. It increases the error variance and reduces the power\n",
    " of statistical tests\n",
    " b. If the outliers are non-randomly distributed, they can\n",
    " decrease normality\n",
    " c. They can bias or influence estimates that may be of substantive interest\n",
    "##### Causes of Outliers:\n",
    "1. Data Entry Errors - Human errors such as errors caused during data collection, recording, or entry can cause outliers in data.\n",
    "2. Measurement Error - When the measurement instrument used turns out to be faulty.\n",
    "3. Intentional Error - This is commonly found in self-reported measures that involves sensitive data.\n",
    "4. Data Processing Error - When data is collected from different sources\n",
    "5. Sampling Error - Data considered which is not part of the sample\n",
    "6. Natural Outlier - When an outlier is not artificial (due to error), it is a natural outlier.\n",
    "##### Outlier Detection\n",
    "1. Outliers can be detected using boxplots and scatter plots"
   ]
  },
  {
   "cell_type": "code",
   "execution_count": 27,
   "metadata": {},
   "outputs": [
    {
     "data": {
      "text/plain": [
       "<matplotlib.axes._subplots.AxesSubplot at 0x2abd5f0d748>"
      ]
     },
     "execution_count": 27,
     "metadata": {},
     "output_type": "execute_result"
    },
    {
     "data": {
      "image/png": "[encoded data removed]",
      "text/plain": [
       "<Figure size 432x288 with 1 Axes>"
      ]
     },
     "metadata": {
      "needs_background": "light"
     },
     "output_type": "display_data"
    }
   ],
   "source": [
    "df.boxplot(column = ['Sales'])"
   ]
  },
  {
   "cell_type": "markdown",
   "metadata": {},
   "source": [
    "Other than the plots, Outliers can also be detected by using certain thumb rules,\n",
    "1. – Any value, which is beyond the range of -1.5x IQR to 1.5 x IQR where IQR = Q3-Q1\n",
    "2. – Any value which out of range of 5th and 95th percentile can be considered as outlier\n",
    "3. – Data points, three or more standard deviation away from mean are considered outlier"
   ]
  },
  {
   "cell_type": "code",
   "execution_count": 28,
   "metadata": {},
   "outputs": [
    {
     "name": "stdout",
     "output_type": "stream",
     "text": [
      "192.66\n"
     ]
    }
   ],
   "source": [
    "IQR = df['Sales'].quantile(0.75)-df['Sales'].quantile(0.25)\n",
    "print(IQR)"
   ]
  },
  {
   "cell_type": "code",
   "execution_count": 29,
   "metadata": {},
   "outputs": [
    {
     "name": "stdout",
     "output_type": "stream",
     "text": [
      "498.93\n",
      "-271.71000000000004\n"
     ]
    }
   ],
   "source": [
    "Upper_OutlierLimit = df['Sales'].quantile(0.75) + 1.5*IQR\n",
    "Lower_OutlierLimit = df['Sales'].quantile(0.25) - 1.5*IQR\n",
    "print(Upper_OutlierLimit)\n",
    "print(Lower_OutlierLimit)\n"
   ]
  },
  {
   "cell_type": "code",
   "execution_count": 30,
   "metadata": {},
   "outputs": [],
   "source": [
    "OutlierValues = df[(df['Sales']>=Upper_OutlierLimit) | (df['Sales']<=Lower_OutlierLimit)]\n"
   ]
  },
  {
   "cell_type": "code",
   "execution_count": 31,
   "metadata": {},
   "outputs": [
    {
     "data": {
      "text/html": [
       "<div>\n",
       "<style scoped>\n",
       "    .dataframe tbody tr th:only-of-type {\n",
       "        vertical-align: middle;\n",
       "    }\n",
       "\n",
       "    .dataframe tbody tr th {\n",
       "        vertical-align: top;\n",
       "    }\n",
       "\n",
       "    .dataframe thead th {\n",
       "        text-align: right;\n",
       "    }\n",
       "</style>\n",
       "<table border=\"1\" class=\"dataframe\">\n",
       "  <thead>\n",
       "    <tr style=\"text-align: right;\">\n",
       "      <th></th>\n",
       "      <th>Ship Mode</th>\n",
       "      <th>Segment</th>\n",
       "      <th>Country</th>\n",
       "      <th>City</th>\n",
       "      <th>State</th>\n",
       "      <th>Postal Code</th>\n",
       "      <th>Region</th>\n",
       "      <th>Category</th>\n",
       "      <th>Sub-Category</th>\n",
       "      <th>Sales</th>\n",
       "      <th>Quantity</th>\n",
       "      <th>Discount</th>\n",
       "      <th>Profit</th>\n",
       "    </tr>\n",
       "  </thead>\n",
       "  <tbody>\n",
       "    <tr>\n",
       "      <td>1</td>\n",
       "      <td>Second Class</td>\n",
       "      <td>Consumer</td>\n",
       "      <td>United States</td>\n",
       "      <td>Henderson</td>\n",
       "      <td>Kentucky</td>\n",
       "      <td>42420</td>\n",
       "      <td>South</td>\n",
       "      <td>Furniture</td>\n",
       "      <td>Chairs</td>\n",
       "      <td>731.9400</td>\n",
       "      <td>3</td>\n",
       "      <td>0.00</td>\n",
       "      <td>219.5820</td>\n",
       "    </tr>\n",
       "    <tr>\n",
       "      <td>3</td>\n",
       "      <td>Standard Class</td>\n",
       "      <td>Consumer</td>\n",
       "      <td>United States</td>\n",
       "      <td>Fort Lauderdale</td>\n",
       "      <td>Florida</td>\n",
       "      <td>33311</td>\n",
       "      <td>South</td>\n",
       "      <td>Furniture</td>\n",
       "      <td>Tables</td>\n",
       "      <td>957.5775</td>\n",
       "      <td>5</td>\n",
       "      <td>0.45</td>\n",
       "      <td>-383.0310</td>\n",
       "    </tr>\n",
       "    <tr>\n",
       "      <td>7</td>\n",
       "      <td>Standard Class</td>\n",
       "      <td>Consumer</td>\n",
       "      <td>United States</td>\n",
       "      <td>Los Angeles</td>\n",
       "      <td>California</td>\n",
       "      <td>90032</td>\n",
       "      <td>West</td>\n",
       "      <td>Technology</td>\n",
       "      <td>Phones</td>\n",
       "      <td>907.1520</td>\n",
       "      <td>6</td>\n",
       "      <td>0.20</td>\n",
       "      <td>90.7152</td>\n",
       "    </tr>\n",
       "    <tr>\n",
       "      <td>10</td>\n",
       "      <td>Standard Class</td>\n",
       "      <td>Consumer</td>\n",
       "      <td>United States</td>\n",
       "      <td>Los Angeles</td>\n",
       "      <td>California</td>\n",
       "      <td>90032</td>\n",
       "      <td>West</td>\n",
       "      <td>Furniture</td>\n",
       "      <td>Tables</td>\n",
       "      <td>1706.1840</td>\n",
       "      <td>9</td>\n",
       "      <td>0.20</td>\n",
       "      <td>85.3092</td>\n",
       "    </tr>\n",
       "    <tr>\n",
       "      <td>11</td>\n",
       "      <td>Standard Class</td>\n",
       "      <td>Consumer</td>\n",
       "      <td>United States</td>\n",
       "      <td>Los Angeles</td>\n",
       "      <td>California</td>\n",
       "      <td>90032</td>\n",
       "      <td>West</td>\n",
       "      <td>Technology</td>\n",
       "      <td>Phones</td>\n",
       "      <td>911.4240</td>\n",
       "      <td>4</td>\n",
       "      <td>0.20</td>\n",
       "      <td>68.3568</td>\n",
       "    </tr>\n",
       "    <tr>\n",
       "      <td>...</td>\n",
       "      <td>...</td>\n",
       "      <td>...</td>\n",
       "      <td>...</td>\n",
       "      <td>...</td>\n",
       "      <td>...</td>\n",
       "      <td>...</td>\n",
       "      <td>...</td>\n",
       "      <td>...</td>\n",
       "      <td>...</td>\n",
       "      <td>...</td>\n",
       "      <td>...</td>\n",
       "      <td>...</td>\n",
       "      <td>...</td>\n",
       "    </tr>\n",
       "    <tr>\n",
       "      <td>9931</td>\n",
       "      <td>Standard Class</td>\n",
       "      <td>Consumer</td>\n",
       "      <td>United States</td>\n",
       "      <td>San Bernardino</td>\n",
       "      <td>California</td>\n",
       "      <td>92404</td>\n",
       "      <td>West</td>\n",
       "      <td>Furniture</td>\n",
       "      <td>Bookcases</td>\n",
       "      <td>683.3320</td>\n",
       "      <td>4</td>\n",
       "      <td>0.15</td>\n",
       "      <td>-40.1960</td>\n",
       "    </tr>\n",
       "    <tr>\n",
       "      <td>9942</td>\n",
       "      <td>Standard Class</td>\n",
       "      <td>Consumer</td>\n",
       "      <td>United States</td>\n",
       "      <td>Anaheim</td>\n",
       "      <td>California</td>\n",
       "      <td>92804</td>\n",
       "      <td>West</td>\n",
       "      <td>Office Supplies</td>\n",
       "      <td>Storage</td>\n",
       "      <td>998.8200</td>\n",
       "      <td>9</td>\n",
       "      <td>0.00</td>\n",
       "      <td>29.9646</td>\n",
       "    </tr>\n",
       "    <tr>\n",
       "      <td>9947</td>\n",
       "      <td>Second Class</td>\n",
       "      <td>Corporate</td>\n",
       "      <td>United States</td>\n",
       "      <td>Indianapolis</td>\n",
       "      <td>Indiana</td>\n",
       "      <td>46203</td>\n",
       "      <td>Central</td>\n",
       "      <td>Furniture</td>\n",
       "      <td>Chairs</td>\n",
       "      <td>1925.8800</td>\n",
       "      <td>6</td>\n",
       "      <td>0.00</td>\n",
       "      <td>539.2464</td>\n",
       "    </tr>\n",
       "    <tr>\n",
       "      <td>9948</td>\n",
       "      <td>Second Class</td>\n",
       "      <td>Corporate</td>\n",
       "      <td>United States</td>\n",
       "      <td>Indianapolis</td>\n",
       "      <td>Indiana</td>\n",
       "      <td>46203</td>\n",
       "      <td>Central</td>\n",
       "      <td>Office Supplies</td>\n",
       "      <td>Appliances</td>\n",
       "      <td>2405.2000</td>\n",
       "      <td>8</td>\n",
       "      <td>0.00</td>\n",
       "      <td>793.7160</td>\n",
       "    </tr>\n",
       "    <tr>\n",
       "      <td>9968</td>\n",
       "      <td>Standard Class</td>\n",
       "      <td>Consumer</td>\n",
       "      <td>United States</td>\n",
       "      <td>Plainfield</td>\n",
       "      <td>New Jersey</td>\n",
       "      <td>7060</td>\n",
       "      <td>East</td>\n",
       "      <td>Office Supplies</td>\n",
       "      <td>Binders</td>\n",
       "      <td>735.9800</td>\n",
       "      <td>2</td>\n",
       "      <td>0.00</td>\n",
       "      <td>331.1910</td>\n",
       "    </tr>\n",
       "  </tbody>\n",
       "</table>\n",
       "<p>1167 rows × 13 columns</p>\n",
       "</div>"
      ],
      "text/plain": [
       "           Ship Mode    Segment        Country             City       State  \\\n",
       "1       Second Class   Consumer  United States        Henderson    Kentucky   \n",
       "3     Standard Class   Consumer  United States  Fort Lauderdale     Florida   \n",
       "7     Standard Class   Consumer  United States      Los Angeles  California   \n",
       "10    Standard Class   Consumer  United States      Los Angeles  California   \n",
       "11    Standard Class   Consumer  United States      Los Angeles  California   \n",
       "...              ...        ...            ...              ...         ...   \n",
       "9931  Standard Class   Consumer  United States   San Bernardino  California   \n",
       "9942  Standard Class   Consumer  United States          Anaheim  California   \n",
       "9947    Second Class  Corporate  United States     Indianapolis     Indiana   \n",
       "9948    Second Class  Corporate  United States     Indianapolis     Indiana   \n",
       "9968  Standard Class   Consumer  United States       Plainfield  New Jersey   \n",
       "\n",
       "      Postal Code   Region         Category Sub-Category      Sales  Quantity  \\\n",
       "1           42420    South        Furniture       Chairs   731.9400         3   \n",
       "3           33311    South        Furniture       Tables   957.5775         5   \n",
       "7           90032     West       Technology       Phones   907.1520         6   \n",
       "10          90032     West        Furniture       Tables  1706.1840         9   \n",
       "11          90032     West       Technology       Phones   911.4240         4   \n",
       "...           ...      ...              ...          ...        ...       ...   \n",
       "9931        92404     West        Furniture    Bookcases   683.3320         4   \n",
       "9942        92804     West  Office Supplies      Storage   998.8200         9   \n",
       "9947        46203  Central        Furniture       Chairs  1925.8800         6   \n",
       "9948        46203  Central  Office Supplies   Appliances  2405.2000         8   \n",
       "9968         7060     East  Office Supplies      Binders   735.9800         2   \n",
       "\n",
       "      Discount    Profit  \n",
       "1         0.00  219.5820  \n",
       "3         0.45 -383.0310  \n",
       "7         0.20   90.7152  \n",
       "10        0.20   85.3092  \n",
       "11        0.20   68.3568  \n",
       "...        ...       ...  \n",
       "9931      0.15  -40.1960  \n",
       "9942      0.00   29.9646  \n",
       "9947      0.00  539.2464  \n",
       "9948      0.00  793.7160  \n",
       "9968      0.00  331.1910  \n",
       "\n",
       "[1167 rows x 13 columns]"
      ]
     },
     "execution_count": 31,
     "metadata": {},
     "output_type": "execute_result"
    }
   ],
   "source": [
    "OutlierValues"
   ]
  },
  {
   "cell_type": "code",
   "execution_count": 32,
   "metadata": {},
   "outputs": [
    {
     "data": {
      "text/plain": [
       "<matplotlib.axes._subplots.AxesSubplot at 0x2abd8fc20c8>"
      ]
     },
     "execution_count": 32,
     "metadata": {},
     "output_type": "execute_result"
    },
    {
     "data": {
      "image/png": "[encoded data removed]",
      "text/plain": [
       "<Figure size 432x288 with 1 Axes>"
      ]
     },
     "metadata": {
      "needs_background": "light"
     },
     "output_type": "display_data"
    }
   ],
   "source": [
    "OutlierValues.boxplot(column = ['Sales'])"
   ]
  },
  {
   "cell_type": "markdown",
   "metadata": {},
   "source": [
    "##### Handle Outliers\n",
    "1. We could remove the outliers from the data if they are due to data entry or data processing errors\n",
    "2. Based on business understanding you could also replace the outliers with mean or median\n",
    "3. If there is a pattern of interest in the outliers then they could be handled separately. For example if the outliers are like in groups then treat both groups as two different groups and build individual model for both groups and then combine the output\n",
    "4. Also the outliers can be capped with 5th or 95th percentile\n"
   ]
  },
  {
   "cell_type": "code",
   "execution_count": 33,
   "metadata": {},
   "outputs": [
    {
     "data": {
      "text/plain": [
       "1706.184"
      ]
     },
     "execution_count": 33,
     "metadata": {},
     "output_type": "execute_result"
    }
   ],
   "source": [
    "df['Sales'][10]"
   ]
  },
  {
   "cell_type": "code",
   "execution_count": 34,
   "metadata": {},
   "outputs": [
    {
     "name": "stderr",
     "output_type": "stream",
     "text": [
      "C:\\Users\\omkar\\anacondanew\\lib\\site-packages\\ipykernel_launcher.py:3: SettingWithCopyWarning: \n",
      "A value is trying to be set on a copy of a slice from a DataFrame\n",
      "\n",
      "See the caveats in the documentation: http://pandas.pydata.org/pandas-docs/stable/user_guide/indexing.html#returning-a-view-versus-a-copy\n",
      "  This is separate from the ipykernel package so we can avoid doing imports until\n"
     ]
    }
   ],
   "source": [
    "# This is called capping and done when we have some outliers remaining\n",
    "# Here if we have a outlier obove 95% then we cap it that value and we have the outlier removed\n",
    "df['Sales'][10] = df['Sales'].quantile(0.95)"
   ]
  },
  {
   "cell_type": "code",
   "execution_count": 35,
   "metadata": {},
   "outputs": [
    {
     "data": {
      "text/plain": [
       "956.9842450000003"
      ]
     },
     "execution_count": 35,
     "metadata": {},
     "output_type": "execute_result"
    }
   ],
   "source": [
    "df['Sales'][10]"
   ]
  },
  {
   "cell_type": "markdown",
   "metadata": {},
   "source": [
    "## Step 6: Feature Engineering - Variable and Dummy Variable Creation\n",
    "1. Variable creation is a process to generate a new variables / features based on existing variable(s)\n",
    "2. Dummy coding provides one way of using categorical predictor variables in various kinds of estimation models (see also effect coding), such as, linear regression. Dummy coding uses only ones and zeros to convey all of the necessary information on group membership.\n",
    "3. Below is an example of variable creations (Yellow columns are original variables and the columns in blue are variables created from them)"
   ]
  },
  {
   "cell_type": "markdown",
   "metadata": {},
   "source": [
    "Categorical variables, we need to convert them into\n",
    "dummy variables so that we will be able to use them as a predictor"
   ]
  },
  {
   "cell_type": "code",
   "execution_count": 36,
   "metadata": {},
   "outputs": [
    {
     "name": "stdout",
     "output_type": "stream",
     "text": [
      "Ship Mode        True\n",
      "Segment          True\n",
      "Country          True\n",
      "City             True\n",
      "State            True\n",
      "Postal Code     False\n",
      "Region           True\n",
      "Category         True\n",
      "Sub-Category     True\n",
      "Sales           False\n",
      "Quantity        False\n",
      "Discount        False\n",
      "Profit          False\n",
      "dtype: bool\n"
     ]
    }
   ],
   "source": [
    "obj = df.dtypes == np.object\n",
    "print(obj)"
   ]
  },
  {
   "cell_type": "code",
   "execution_count": 37,
   "metadata": {},
   "outputs": [
    {
     "data": {
      "text/plain": [
       "Index(['Ship Mode', 'Segment', 'Country', 'City', 'State', 'Region',\n",
       "       'Category', 'Sub-Category'],\n",
       "      dtype='object')"
      ]
     },
     "execution_count": 37,
     "metadata": {},
     "output_type": "execute_result"
    }
   ],
   "source": [
    "df.columns[obj]"
   ]
  },
  {
   "cell_type": "code",
   "execution_count": 38,
   "metadata": {},
   "outputs": [],
   "source": [
    "del df['Country']"
   ]
  },
  {
   "cell_type": "code",
   "execution_count": 39,
   "metadata": {},
   "outputs": [
    {
     "name": "stdout",
     "output_type": "stream",
     "text": [
      "Ship Mode        True\n",
      "Segment          True\n",
      "City             True\n",
      "State            True\n",
      "Postal Code     False\n",
      "Region           True\n",
      "Category         True\n",
      "Sub-Category     True\n",
      "Sales           False\n",
      "Quantity        False\n",
      "Discount        False\n",
      "Profit          False\n",
      "dtype: bool\n"
     ]
    }
   ],
   "source": [
    "obj = df.dtypes == np.object\n",
    "print(obj)"
   ]
  },
  {
   "cell_type": "code",
   "execution_count": 40,
   "metadata": {},
   "outputs": [
    {
     "name": "stdout",
     "output_type": "stream",
     "text": [
      "      Same Day  Second Class  Standard Class\n",
      "0            0             1               0\n",
      "1            0             1               0\n",
      "2            0             1               0\n",
      "3            0             0               1\n",
      "4            0             0               1\n",
      "...        ...           ...             ...\n",
      "9989         0             1               0\n",
      "9990         0             0               1\n",
      "9991         0             0               1\n",
      "9992         0             0               1\n",
      "9993         0             1               0\n",
      "\n",
      "[9994 rows x 3 columns]\n",
      "      Same Day  Second Class  Standard Class  Corporate  Home Office\n",
      "0            0             1               0          0            0\n",
      "1            0             1               0          0            0\n",
      "2            0             1               0          1            0\n",
      "3            0             0               1          0            0\n",
      "4            0             0               1          0            0\n",
      "...        ...           ...             ...        ...          ...\n",
      "9989         0             1               0          0            0\n",
      "9990         0             0               1          0            0\n",
      "9991         0             0               1          0            0\n",
      "9992         0             0               1          0            0\n",
      "9993         0             1               0          0            0\n",
      "\n",
      "[9994 rows x 5 columns]\n",
      "      Same Day  Second Class  Standard Class  Corporate  Home Office  Abilene  \\\n",
      "0            0             1               0          0            0        0   \n",
      "1            0             1               0          0            0        0   \n",
      "2            0             1               0          1            0        0   \n",
      "3            0             0               1          0            0        0   \n",
      "4            0             0               1          0            0        0   \n",
      "...        ...           ...             ...        ...          ...      ...   \n",
      "9989         0             1               0          0            0        0   \n",
      "9990         0             0               1          0            0        0   \n",
      "9991         0             0               1          0            0        0   \n",
      "9992         0             0               1          0            0        0   \n",
      "9993         0             1               0          0            0        0   \n",
      "\n",
      "      Akron  Albuquerque  Alexandria  Allen  ...  Wilmington  Wilson  \\\n",
      "0         0            0           0      0  ...           0       0   \n",
      "1         0            0           0      0  ...           0       0   \n",
      "2         0            0           0      0  ...           0       0   \n",
      "3         0            0           0      0  ...           0       0   \n",
      "4         0            0           0      0  ...           0       0   \n",
      "...     ...          ...         ...    ...  ...         ...     ...   \n",
      "9989      0            0           0      0  ...           0       0   \n",
      "9990      0            0           0      0  ...           0       0   \n",
      "9991      0            0           0      0  ...           0       0   \n",
      "9992      0            0           0      0  ...           0       0   \n",
      "9993      0            0           0      0  ...           0       0   \n",
      "\n",
      "      Woodbury  Woodland  Woodstock  Woonsocket  Yonkers  York  Yucaipa  Yuma  \n",
      "0            0         0          0           0        0     0        0     0  \n",
      "1            0         0          0           0        0     0        0     0  \n",
      "2            0         0          0           0        0     0        0     0  \n",
      "3            0         0          0           0        0     0        0     0  \n",
      "4            0         0          0           0        0     0        0     0  \n",
      "...        ...       ...        ...         ...      ...   ...      ...   ...  \n",
      "9989         0         0          0           0        0     0        0     0  \n",
      "9990         0         0          0           0        0     0        0     0  \n",
      "9991         0         0          0           0        0     0        0     0  \n",
      "9992         0         0          0           0        0     0        0     0  \n",
      "9993         0         0          0           0        0     0        0     0  \n",
      "\n",
      "[9994 rows x 535 columns]\n",
      "      Same Day  Second Class  Standard Class  Corporate  Home Office  Abilene  \\\n",
      "0            0             1               0          0            0        0   \n",
      "1            0             1               0          0            0        0   \n",
      "2            0             1               0          1            0        0   \n",
      "3            0             0               1          0            0        0   \n",
      "4            0             0               1          0            0        0   \n",
      "...        ...           ...             ...        ...          ...      ...   \n",
      "9989         0             1               0          0            0        0   \n",
      "9990         0             0               1          0            0        0   \n",
      "9991         0             0               1          0            0        0   \n",
      "9992         0             0               1          0            0        0   \n",
      "9993         0             1               0          0            0        0   \n",
      "\n",
      "      Akron  Albuquerque  Alexandria  Allen  ...  South Dakota  Tennessee  \\\n",
      "0         0            0           0      0  ...             0          0   \n",
      "1         0            0           0      0  ...             0          0   \n",
      "2         0            0           0      0  ...             0          0   \n",
      "3         0            0           0      0  ...             0          0   \n",
      "4         0            0           0      0  ...             0          0   \n",
      "...     ...          ...         ...    ...  ...           ...        ...   \n",
      "9989      0            0           0      0  ...             0          0   \n",
      "9990      0            0           0      0  ...             0          0   \n",
      "9991      0            0           0      0  ...             0          0   \n",
      "9992      0            0           0      0  ...             0          0   \n",
      "9993      0            0           0      0  ...             0          0   \n",
      "\n",
      "      Texas  Utah  Vermont  Virginia  Washington  West Virginia  Wisconsin  \\\n",
      "0         0     0        0         0           0              0          0   \n",
      "1         0     0        0         0           0              0          0   \n",
      "2         0     0        0         0           0              0          0   \n",
      "3         0     0        0         0           0              0          0   \n",
      "4         0     0        0         0           0              0          0   \n",
      "...     ...   ...      ...       ...         ...            ...        ...   \n",
      "9989      0     0        0         0           0              0          0   \n",
      "9990      0     0        0         0           0              0          0   \n",
      "9991      0     0        0         0           0              0          0   \n",
      "9992      0     0        0         0           0              0          0   \n",
      "9993      0     0        0         0           0              0          0   \n",
      "\n",
      "      Wyoming  \n",
      "0           0  \n",
      "1           0  \n",
      "2           0  \n",
      "3           0  \n",
      "4           0  \n",
      "...       ...  \n",
      "9989        0  \n",
      "9990        0  \n",
      "9991        0  \n",
      "9992        0  \n",
      "9993        0  \n",
      "\n",
      "[9994 rows x 583 columns]\n",
      "      Same Day  Second Class  Standard Class  Corporate  Home Office  Abilene  \\\n",
      "0            0             1               0          0            0        0   \n",
      "1            0             1               0          0            0        0   \n",
      "2            0             1               0          1            0        0   \n",
      "3            0             0               1          0            0        0   \n",
      "4            0             0               1          0            0        0   \n",
      "...        ...           ...             ...        ...          ...      ...   \n",
      "9989         0             1               0          0            0        0   \n",
      "9990         0             0               1          0            0        0   \n",
      "9991         0             0               1          0            0        0   \n",
      "9992         0             0               1          0            0        0   \n",
      "9993         0             1               0          0            0        0   \n",
      "\n",
      "      Akron  Albuquerque  Alexandria  Allen  ...  Utah  Vermont  Virginia  \\\n",
      "0         0            0           0      0  ...     0        0         0   \n",
      "1         0            0           0      0  ...     0        0         0   \n",
      "2         0            0           0      0  ...     0        0         0   \n",
      "3         0            0           0      0  ...     0        0         0   \n",
      "4         0            0           0      0  ...     0        0         0   \n",
      "...     ...          ...         ...    ...  ...   ...      ...       ...   \n",
      "9989      0            0           0      0  ...     0        0         0   \n",
      "9990      0            0           0      0  ...     0        0         0   \n",
      "9991      0            0           0      0  ...     0        0         0   \n",
      "9992      0            0           0      0  ...     0        0         0   \n",
      "9993      0            0           0      0  ...     0        0         0   \n",
      "\n",
      "      Washington  West Virginia  Wisconsin  Wyoming  East  South  West  \n",
      "0              0              0          0        0     0      1     0  \n",
      "1              0              0          0        0     0      1     0  \n",
      "2              0              0          0        0     0      0     1  \n",
      "3              0              0          0        0     0      1     0  \n",
      "4              0              0          0        0     0      1     0  \n",
      "...          ...            ...        ...      ...   ...    ...   ...  \n",
      "9989           0              0          0        0     0      1     0  \n",
      "9990           0              0          0        0     0      0     1  \n",
      "9991           0              0          0        0     0      0     1  \n",
      "9992           0              0          0        0     0      0     1  \n",
      "9993           0              0          0        0     0      0     1  \n",
      "\n",
      "[9994 rows x 586 columns]\n",
      "      Same Day  Second Class  Standard Class  Corporate  Home Office  Abilene  \\\n",
      "0            0             1               0          0            0        0   \n",
      "1            0             1               0          0            0        0   \n",
      "2            0             1               0          1            0        0   \n",
      "3            0             0               1          0            0        0   \n",
      "4            0             0               1          0            0        0   \n",
      "...        ...           ...             ...        ...          ...      ...   \n",
      "9989         0             1               0          0            0        0   \n",
      "9990         0             0               1          0            0        0   \n",
      "9991         0             0               1          0            0        0   \n",
      "9992         0             0               1          0            0        0   \n",
      "9993         0             1               0          0            0        0   \n",
      "\n",
      "      Akron  Albuquerque  Alexandria  Allen  ...  Virginia  Washington  \\\n",
      "0         0            0           0      0  ...         0           0   \n",
      "1         0            0           0      0  ...         0           0   \n",
      "2         0            0           0      0  ...         0           0   \n",
      "3         0            0           0      0  ...         0           0   \n",
      "4         0            0           0      0  ...         0           0   \n",
      "...     ...          ...         ...    ...  ...       ...         ...   \n",
      "9989      0            0           0      0  ...         0           0   \n",
      "9990      0            0           0      0  ...         0           0   \n",
      "9991      0            0           0      0  ...         0           0   \n",
      "9992      0            0           0      0  ...         0           0   \n",
      "9993      0            0           0      0  ...         0           0   \n",
      "\n",
      "      West Virginia  Wisconsin  Wyoming  East  South  West  Office Supplies  \\\n",
      "0                 0          0        0     0      1     0                0   \n",
      "1                 0          0        0     0      1     0                0   \n",
      "2                 0          0        0     0      0     1                1   \n",
      "3                 0          0        0     0      1     0                0   \n",
      "4                 0          0        0     0      1     0                1   \n",
      "...             ...        ...      ...   ...    ...   ...              ...   \n",
      "9989              0          0        0     0      1     0                0   \n",
      "9990              0          0        0     0      0     1                0   \n",
      "9991              0          0        0     0      0     1                0   \n",
      "9992              0          0        0     0      0     1                1   \n",
      "9993              0          0        0     0      0     1                1   \n",
      "\n",
      "      Technology  \n",
      "0              0  \n",
      "1              0  \n",
      "2              0  \n",
      "3              0  \n",
      "4              0  \n",
      "...          ...  \n",
      "9989           0  \n",
      "9990           0  \n",
      "9991           1  \n",
      "9992           0  \n",
      "9993           0  \n",
      "\n",
      "[9994 rows x 588 columns]\n"
     ]
    },
    {
     "name": "stdout",
     "output_type": "stream",
     "text": [
      "      Same Day  Second Class  Standard Class  Corporate  Home Office  Abilene  \\\n",
      "0            0             1               0          0            0        0   \n",
      "1            0             1               0          0            0        0   \n",
      "2            0             1               0          1            0        0   \n",
      "3            0             0               1          0            0        0   \n",
      "4            0             0               1          0            0        0   \n",
      "...        ...           ...             ...        ...          ...      ...   \n",
      "9989         0             1               0          0            0        0   \n",
      "9990         0             0               1          0            0        0   \n",
      "9991         0             0               1          0            0        0   \n",
      "9992         0             0               1          0            0        0   \n",
      "9993         0             1               0          0            0        0   \n",
      "\n",
      "      Akron  Albuquerque  Alexandria  Allen  ...  Envelopes  Fasteners  \\\n",
      "0         0            0           0      0  ...          0          0   \n",
      "1         0            0           0      0  ...          0          0   \n",
      "2         0            0           0      0  ...          0          0   \n",
      "3         0            0           0      0  ...          0          0   \n",
      "4         0            0           0      0  ...          0          0   \n",
      "...     ...          ...         ...    ...  ...        ...        ...   \n",
      "9989      0            0           0      0  ...          0          0   \n",
      "9990      0            0           0      0  ...          0          0   \n",
      "9991      0            0           0      0  ...          0          0   \n",
      "9992      0            0           0      0  ...          0          0   \n",
      "9993      0            0           0      0  ...          0          0   \n",
      "\n",
      "      Furnishings  Labels  Machines  Paper  Phones  Storage  Supplies  Tables  \n",
      "0               0       0         0      0       0        0         0       0  \n",
      "1               0       0         0      0       0        0         0       0  \n",
      "2               0       1         0      0       0        0         0       0  \n",
      "3               0       0         0      0       0        0         0       1  \n",
      "4               0       0         0      0       0        1         0       0  \n",
      "...           ...     ...       ...    ...     ...      ...       ...     ...  \n",
      "9989            1       0         0      0       0        0         0       0  \n",
      "9990            1       0         0      0       0        0         0       0  \n",
      "9991            0       0         0      0       1        0         0       0  \n",
      "9992            0       0         0      1       0        0         0       0  \n",
      "9993            0       0         0      0       0        0         0       0  \n",
      "\n",
      "[9994 rows x 604 columns]\n"
     ]
    }
   ],
   "source": [
    "dummydf = pd.DataFrame()\n",
    "for i in df.columns[obj]:\n",
    "     dummy=pd.get_dummies(df[i], drop_first=True)\n",
    " #\"drop_first\" drops the first category in order to avoid multicollinearity problem\n",
    " #prefix is used to add a certain prefix to all the dummy variables created for any particular categorial variable\n",
    " \n",
    "     dummydf=pd.concat([dummydf, dummy], axis=1) # Concatenating Columns\n",
    "    #\"pd.concat\" combines all the dummy columns for all the categorical variables\n",
    " \n",
    "     print(dummydf)"
   ]
  },
  {
   "cell_type": "code",
   "execution_count": 41,
   "metadata": {},
   "outputs": [
    {
     "data": {
      "text/html": [
       "<div>\n",
       "<style scoped>\n",
       "    .dataframe tbody tr th:only-of-type {\n",
       "        vertical-align: middle;\n",
       "    }\n",
       "\n",
       "    .dataframe tbody tr th {\n",
       "        vertical-align: top;\n",
       "    }\n",
       "\n",
       "    .dataframe thead th {\n",
       "        text-align: right;\n",
       "    }\n",
       "</style>\n",
       "<table border=\"1\" class=\"dataframe\">\n",
       "  <thead>\n",
       "    <tr style=\"text-align: right;\">\n",
       "      <th></th>\n",
       "      <th>Postal Code</th>\n",
       "      <th>Sales</th>\n",
       "      <th>Quantity</th>\n",
       "      <th>Discount</th>\n",
       "      <th>Profit</th>\n",
       "      <th>Ship Mode_Same Day</th>\n",
       "      <th>Ship Mode_Second Class</th>\n",
       "      <th>Ship Mode_Standard Class</th>\n",
       "      <th>Segment_Corporate</th>\n",
       "      <th>Segment_Home Office</th>\n",
       "      <th>...</th>\n",
       "      <th>Sub-Category_Envelopes</th>\n",
       "      <th>Sub-Category_Fasteners</th>\n",
       "      <th>Sub-Category_Furnishings</th>\n",
       "      <th>Sub-Category_Labels</th>\n",
       "      <th>Sub-Category_Machines</th>\n",
       "      <th>Sub-Category_Paper</th>\n",
       "      <th>Sub-Category_Phones</th>\n",
       "      <th>Sub-Category_Storage</th>\n",
       "      <th>Sub-Category_Supplies</th>\n",
       "      <th>Sub-Category_Tables</th>\n",
       "    </tr>\n",
       "  </thead>\n",
       "  <tbody>\n",
       "    <tr>\n",
       "      <td>0</td>\n",
       "      <td>42420</td>\n",
       "      <td>261.9600</td>\n",
       "      <td>2</td>\n",
       "      <td>0.00</td>\n",
       "      <td>41.9136</td>\n",
       "      <td>0</td>\n",
       "      <td>1</td>\n",
       "      <td>0</td>\n",
       "      <td>0</td>\n",
       "      <td>0</td>\n",
       "      <td>...</td>\n",
       "      <td>0</td>\n",
       "      <td>0</td>\n",
       "      <td>0</td>\n",
       "      <td>0</td>\n",
       "      <td>0</td>\n",
       "      <td>0</td>\n",
       "      <td>0</td>\n",
       "      <td>0</td>\n",
       "      <td>0</td>\n",
       "      <td>0</td>\n",
       "    </tr>\n",
       "    <tr>\n",
       "      <td>1</td>\n",
       "      <td>42420</td>\n",
       "      <td>731.9400</td>\n",
       "      <td>3</td>\n",
       "      <td>0.00</td>\n",
       "      <td>219.5820</td>\n",
       "      <td>0</td>\n",
       "      <td>1</td>\n",
       "      <td>0</td>\n",
       "      <td>0</td>\n",
       "      <td>0</td>\n",
       "      <td>...</td>\n",
       "      <td>0</td>\n",
       "      <td>0</td>\n",
       "      <td>0</td>\n",
       "      <td>0</td>\n",
       "      <td>0</td>\n",
       "      <td>0</td>\n",
       "      <td>0</td>\n",
       "      <td>0</td>\n",
       "      <td>0</td>\n",
       "      <td>0</td>\n",
       "    </tr>\n",
       "    <tr>\n",
       "      <td>2</td>\n",
       "      <td>90036</td>\n",
       "      <td>14.6200</td>\n",
       "      <td>2</td>\n",
       "      <td>0.00</td>\n",
       "      <td>6.8714</td>\n",
       "      <td>0</td>\n",
       "      <td>1</td>\n",
       "      <td>0</td>\n",
       "      <td>1</td>\n",
       "      <td>0</td>\n",
       "      <td>...</td>\n",
       "      <td>0</td>\n",
       "      <td>0</td>\n",
       "      <td>0</td>\n",
       "      <td>1</td>\n",
       "      <td>0</td>\n",
       "      <td>0</td>\n",
       "      <td>0</td>\n",
       "      <td>0</td>\n",
       "      <td>0</td>\n",
       "      <td>0</td>\n",
       "    </tr>\n",
       "    <tr>\n",
       "      <td>3</td>\n",
       "      <td>33311</td>\n",
       "      <td>957.5775</td>\n",
       "      <td>5</td>\n",
       "      <td>0.45</td>\n",
       "      <td>-383.0310</td>\n",
       "      <td>0</td>\n",
       "      <td>0</td>\n",
       "      <td>1</td>\n",
       "      <td>0</td>\n",
       "      <td>0</td>\n",
       "      <td>...</td>\n",
       "      <td>0</td>\n",
       "      <td>0</td>\n",
       "      <td>0</td>\n",
       "      <td>0</td>\n",
       "      <td>0</td>\n",
       "      <td>0</td>\n",
       "      <td>0</td>\n",
       "      <td>0</td>\n",
       "      <td>0</td>\n",
       "      <td>1</td>\n",
       "    </tr>\n",
       "    <tr>\n",
       "      <td>4</td>\n",
       "      <td>33311</td>\n",
       "      <td>22.3680</td>\n",
       "      <td>2</td>\n",
       "      <td>0.20</td>\n",
       "      <td>2.5164</td>\n",
       "      <td>0</td>\n",
       "      <td>0</td>\n",
       "      <td>1</td>\n",
       "      <td>0</td>\n",
       "      <td>0</td>\n",
       "      <td>...</td>\n",
       "      <td>0</td>\n",
       "      <td>0</td>\n",
       "      <td>0</td>\n",
       "      <td>0</td>\n",
       "      <td>0</td>\n",
       "      <td>0</td>\n",
       "      <td>0</td>\n",
       "      <td>1</td>\n",
       "      <td>0</td>\n",
       "      <td>0</td>\n",
       "    </tr>\n",
       "    <tr>\n",
       "      <td>...</td>\n",
       "      <td>...</td>\n",
       "      <td>...</td>\n",
       "      <td>...</td>\n",
       "      <td>...</td>\n",
       "      <td>...</td>\n",
       "      <td>...</td>\n",
       "      <td>...</td>\n",
       "      <td>...</td>\n",
       "      <td>...</td>\n",
       "      <td>...</td>\n",
       "      <td>...</td>\n",
       "      <td>...</td>\n",
       "      <td>...</td>\n",
       "      <td>...</td>\n",
       "      <td>...</td>\n",
       "      <td>...</td>\n",
       "      <td>...</td>\n",
       "      <td>...</td>\n",
       "      <td>...</td>\n",
       "      <td>...</td>\n",
       "      <td>...</td>\n",
       "    </tr>\n",
       "    <tr>\n",
       "      <td>9989</td>\n",
       "      <td>33180</td>\n",
       "      <td>25.2480</td>\n",
       "      <td>3</td>\n",
       "      <td>0.20</td>\n",
       "      <td>4.1028</td>\n",
       "      <td>0</td>\n",
       "      <td>1</td>\n",
       "      <td>0</td>\n",
       "      <td>0</td>\n",
       "      <td>0</td>\n",
       "      <td>...</td>\n",
       "      <td>0</td>\n",
       "      <td>0</td>\n",
       "      <td>1</td>\n",
       "      <td>0</td>\n",
       "      <td>0</td>\n",
       "      <td>0</td>\n",
       "      <td>0</td>\n",
       "      <td>0</td>\n",
       "      <td>0</td>\n",
       "      <td>0</td>\n",
       "    </tr>\n",
       "    <tr>\n",
       "      <td>9990</td>\n",
       "      <td>92627</td>\n",
       "      <td>91.9600</td>\n",
       "      <td>2</td>\n",
       "      <td>0.00</td>\n",
       "      <td>15.6332</td>\n",
       "      <td>0</td>\n",
       "      <td>0</td>\n",
       "      <td>1</td>\n",
       "      <td>0</td>\n",
       "      <td>0</td>\n",
       "      <td>...</td>\n",
       "      <td>0</td>\n",
       "      <td>0</td>\n",
       "      <td>1</td>\n",
       "      <td>0</td>\n",
       "      <td>0</td>\n",
       "      <td>0</td>\n",
       "      <td>0</td>\n",
       "      <td>0</td>\n",
       "      <td>0</td>\n",
       "      <td>0</td>\n",
       "    </tr>\n",
       "    <tr>\n",
       "      <td>9991</td>\n",
       "      <td>92627</td>\n",
       "      <td>258.5760</td>\n",
       "      <td>2</td>\n",
       "      <td>0.20</td>\n",
       "      <td>19.3932</td>\n",
       "      <td>0</td>\n",
       "      <td>0</td>\n",
       "      <td>1</td>\n",
       "      <td>0</td>\n",
       "      <td>0</td>\n",
       "      <td>...</td>\n",
       "      <td>0</td>\n",
       "      <td>0</td>\n",
       "      <td>0</td>\n",
       "      <td>0</td>\n",
       "      <td>0</td>\n",
       "      <td>0</td>\n",
       "      <td>1</td>\n",
       "      <td>0</td>\n",
       "      <td>0</td>\n",
       "      <td>0</td>\n",
       "    </tr>\n",
       "    <tr>\n",
       "      <td>9992</td>\n",
       "      <td>92627</td>\n",
       "      <td>29.6000</td>\n",
       "      <td>4</td>\n",
       "      <td>0.00</td>\n",
       "      <td>13.3200</td>\n",
       "      <td>0</td>\n",
       "      <td>0</td>\n",
       "      <td>1</td>\n",
       "      <td>0</td>\n",
       "      <td>0</td>\n",
       "      <td>...</td>\n",
       "      <td>0</td>\n",
       "      <td>0</td>\n",
       "      <td>0</td>\n",
       "      <td>0</td>\n",
       "      <td>0</td>\n",
       "      <td>1</td>\n",
       "      <td>0</td>\n",
       "      <td>0</td>\n",
       "      <td>0</td>\n",
       "      <td>0</td>\n",
       "    </tr>\n",
       "    <tr>\n",
       "      <td>9993</td>\n",
       "      <td>92683</td>\n",
       "      <td>243.1600</td>\n",
       "      <td>2</td>\n",
       "      <td>0.00</td>\n",
       "      <td>72.9480</td>\n",
       "      <td>0</td>\n",
       "      <td>1</td>\n",
       "      <td>0</td>\n",
       "      <td>0</td>\n",
       "      <td>0</td>\n",
       "      <td>...</td>\n",
       "      <td>0</td>\n",
       "      <td>0</td>\n",
       "      <td>0</td>\n",
       "      <td>0</td>\n",
       "      <td>0</td>\n",
       "      <td>0</td>\n",
       "      <td>0</td>\n",
       "      <td>0</td>\n",
       "      <td>0</td>\n",
       "      <td>0</td>\n",
       "    </tr>\n",
       "  </tbody>\n",
       "</table>\n",
       "<p>9994 rows × 609 columns</p>\n",
       "</div>"
      ],
      "text/plain": [
       "      Postal Code     Sales  Quantity  Discount    Profit  Ship Mode_Same Day  \\\n",
       "0           42420  261.9600         2      0.00   41.9136                   0   \n",
       "1           42420  731.9400         3      0.00  219.5820                   0   \n",
       "2           90036   14.6200         2      0.00    6.8714                   0   \n",
       "3           33311  957.5775         5      0.45 -383.0310                   0   \n",
       "4           33311   22.3680         2      0.20    2.5164                   0   \n",
       "...           ...       ...       ...       ...       ...                 ...   \n",
       "9989        33180   25.2480         3      0.20    4.1028                   0   \n",
       "9990        92627   91.9600         2      0.00   15.6332                   0   \n",
       "9991        92627  258.5760         2      0.20   19.3932                   0   \n",
       "9992        92627   29.6000         4      0.00   13.3200                   0   \n",
       "9993        92683  243.1600         2      0.00   72.9480                   0   \n",
       "\n",
       "      Ship Mode_Second Class  Ship Mode_Standard Class  Segment_Corporate  \\\n",
       "0                          1                         0                  0   \n",
       "1                          1                         0                  0   \n",
       "2                          1                         0                  1   \n",
       "3                          0                         1                  0   \n",
       "4                          0                         1                  0   \n",
       "...                      ...                       ...                ...   \n",
       "9989                       1                         0                  0   \n",
       "9990                       0                         1                  0   \n",
       "9991                       0                         1                  0   \n",
       "9992                       0                         1                  0   \n",
       "9993                       1                         0                  0   \n",
       "\n",
       "      Segment_Home Office  ...  Sub-Category_Envelopes  \\\n",
       "0                       0  ...                       0   \n",
       "1                       0  ...                       0   \n",
       "2                       0  ...                       0   \n",
       "3                       0  ...                       0   \n",
       "4                       0  ...                       0   \n",
       "...                   ...  ...                     ...   \n",
       "9989                    0  ...                       0   \n",
       "9990                    0  ...                       0   \n",
       "9991                    0  ...                       0   \n",
       "9992                    0  ...                       0   \n",
       "9993                    0  ...                       0   \n",
       "\n",
       "      Sub-Category_Fasteners  Sub-Category_Furnishings  Sub-Category_Labels  \\\n",
       "0                          0                         0                    0   \n",
       "1                          0                         0                    0   \n",
       "2                          0                         0                    1   \n",
       "3                          0                         0                    0   \n",
       "4                          0                         0                    0   \n",
       "...                      ...                       ...                  ...   \n",
       "9989                       0                         1                    0   \n",
       "9990                       0                         1                    0   \n",
       "9991                       0                         0                    0   \n",
       "9992                       0                         0                    0   \n",
       "9993                       0                         0                    0   \n",
       "\n",
       "      Sub-Category_Machines  Sub-Category_Paper  Sub-Category_Phones  \\\n",
       "0                         0                   0                    0   \n",
       "1                         0                   0                    0   \n",
       "2                         0                   0                    0   \n",
       "3                         0                   0                    0   \n",
       "4                         0                   0                    0   \n",
       "...                     ...                 ...                  ...   \n",
       "9989                      0                   0                    0   \n",
       "9990                      0                   0                    0   \n",
       "9991                      0                   0                    1   \n",
       "9992                      0                   1                    0   \n",
       "9993                      0                   0                    0   \n",
       "\n",
       "      Sub-Category_Storage  Sub-Category_Supplies  Sub-Category_Tables  \n",
       "0                        0                      0                    0  \n",
       "1                        0                      0                    0  \n",
       "2                        0                      0                    0  \n",
       "3                        0                      0                    1  \n",
       "4                        1                      0                    0  \n",
       "...                    ...                    ...                  ...  \n",
       "9989                     0                      0                    0  \n",
       "9990                     0                      0                    0  \n",
       "9991                     0                      0                    0  \n",
       "9992                     0                      0                    0  \n",
       "9993                     0                      0                    0  \n",
       "\n",
       "[9994 rows x 609 columns]"
      ]
     },
     "execution_count": 41,
     "metadata": {},
     "output_type": "execute_result"
    }
   ],
   "source": [
    "df1 = pd.get_dummies(df, drop_first=True)\n",
    "df1"
   ]
  },
  {
   "cell_type": "markdown",
   "metadata": {},
   "source": [
    "### Step 7: Feature Engineering - Variable Transformation\n",
    "1. In data modelling, transformation refers to the replacement of a variable by a function.\n",
    "For instance, replacing a variable x by the square / cube root or logarithm x is a transformation\n",
    "2. When do we transform?\n",
    " – When we want to change the scale of a variable or standardize the values of a variable for better understanding.\\\n",
    " While this transformation is a must if you have data in different scales\\\n",
    " – This transformation does not change the shape of the variable distribution\\\n",
    " – Existence of a linear relationship between variables is easier to comprehend compared to a non-linear or curved relation.\\\n",
    " – Variables can be transformed by applying functions like log, square, cube etc.\\\n",
    "3. These transformations help in reducing skewness. For right skewed distribution, we take square / cube root or logarithm of variable and for left skewed, we take square.\n",
    "Transforming a variable involves using a mathematical operation to change its measurement scale. In regression, a transformation to achieve linearity is a special kind of nonlinear transformation.\\\n",
    "It is a nonlinear transformation that increases the linear relationship between two variables\n",
    "\n",
    "Methods of Transforming Variables to Achieve Linearity:\\\n",
    "There are many ways to transform variables to achieve linearity for regression analysis. Like, taking log, square root or taking cube root, square, etc. of the function."
   ]
  },
  {
   "cell_type": "markdown",
   "metadata": {},
   "source": [
    "### Conclusion\n",
    "\n",
    "        Dataset has 9994 samples with 13 features.\n",
    "        There is no null value in dataset.\n",
    "        There exist outlier in dataset.\n",
    "        Almost 50% state does not provide discount\n",
    "        There are some state which are in loss\n",
    "        Jamestown has highest profit among all cities\n",
    "        Concord gives minimum discount where as littleton gives maximum discount\n",
    "        Almost 50% of data is belows to 2 and 3 Quality\n",
    "        Cental region provides maximum sales\n",
    "        Standard class has more than 50% count in dataset\n",
    "        50% of the data is from office supplies category\n",
    "        Sub-category copies has more profit\n",
    "        California has more count in dataset.\n",
    "        The average number of deals per state is 204."
   ]
  },
  {
   "cell_type": "code",
   "execution_count": null,
   "metadata": {},
   "outputs": [],
   "source": []
  }
 ],
 "metadata": {
  "kernelspec": {
   "display_name": "Python 3",
   "language": "python",
   "name": "python3"
  },
  "language_info": {
   "codemirror_mode": {
    "name": "ipython",
    "version": 3
   },
   "file_extension": ".py",
   "mimetype": "text/x-python",
   "name": "python",
   "nbconvert_exporter": "python",
   "pygments_lexer": "ipython3",
   "version": "3.7.4"
  }
 },
 "nbformat": 4,
 "nbformat_minor": 2
}
